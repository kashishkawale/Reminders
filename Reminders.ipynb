{
 "cells": [
  {
   "cell_type": "code",
   "execution_count": 1,
   "id": "c1b56655-99c0-4245-9e36-d5dc1cbdbadd",
   "metadata": {},
   "outputs": [],
   "source": [
    "import datetime\n",
    "import tkinter as tk\n",
    "from tkinter import messagebox\n",
    "\n",
    "class DateReminder:\n",
    "    def __init__(self):\n",
    "        self.reminders = {}\n",
    "\n",
    "    def add_reminder(self, date, reminder):\n",
    "        if date not in self.reminders:\n",
    "            self.reminders[date] = []\n",
    "        self.reminders[date].append(reminder)\n",
    "\n",
    "    def check_reminders(self):\n",
    "        today = datetime.date.today()\n",
    "        date = today.strftime(\"%Y-%m-%d\")\n",
    "        if date in self.reminders:\n",
    "            reminders = self.reminders[date]\n",
    "            reminder_message = \"\\n\".join(reminders)\n",
    "            messagebox.showinfo(\"Date Reminders\", reminder_message)\n",
    "        else:\n",
    "            messagebox.showinfo(\"Date Reminders\", \"No reminders for today.\")\n",
    "\n",
    "def main():\n",
    "    reminder_system = DateReminder()\n",
    "\n",
    "    def add_reminder():\n",
    "        date = date_entry.get()\n",
    "        reminder = reminder_text.get(\"1.0\", tk.END).strip()\n",
    "        if date and reminder:\n",
    "            reminder_system.add_reminder(date, reminder)\n",
    "            date_entry.delete(0, tk.END)\n",
    "            reminder_text.delete(\"1.0\", tk.END)\n",
    "        else:\n",
    "            messagebox.showwarning(\"Input Error\", \"Please enter both date and reminder.\")\n",
    "\n",
    "    root = tk.Tk()\n",
    "    root.title(\"Date Reminder System\")\n",
    "\n",
    "    tk.Label(root, text=\"Date (YYYY-MM-DD):\").grid(row=0, column=0)\n",
    "    date_entry = tk.Entry(root)\n",
    "    date_entry.grid(row=0, column=1)\n",
    "\n",
    "    tk.Label(root, text=\"Reminder:\").grid(row=1, column=0)\n",
    "    reminder_text = tk.Text(root, height=10, width=30)\n",
    "    reminder_text.grid(row=1, column=1)\n",
    "\n",
    "    tk.Button(root, text=\"Add Reminder\", command=add_reminder).grid(row=2, column=0, columnspan=2)\n",
    "    tk.Button(root, text=\"Check Reminders\", command=reminder_system.check_reminders).grid(row=3, column=0, columnspan=2)\n",
    "\n",
    "    root.mainloop()\n",
    "\n",
    "if __name__ == \"__main__\":\n",
    "    main()\n"
   ]
  },
  {
   "cell_type": "code",
   "execution_count": null,
   "id": "f8907eb6-cc45-4ac7-a655-a215436a2fe6",
   "metadata": {},
   "outputs": [],
   "source": []
  }
 ],
 "metadata": {
  "kernelspec": {
   "display_name": "Python 3 (ipykernel)",
   "language": "python",
   "name": "python3"
  },
  "language_info": {
   "codemirror_mode": {
    "name": "ipython",
    "version": 3
   },
   "file_extension": ".py",
   "mimetype": "text/x-python",
   "name": "python",
   "nbconvert_exporter": "python",
   "pygments_lexer": "ipython3",
   "version": "3.13.5"
  }
 },
 "nbformat": 4,
 "nbformat_minor": 5
}
